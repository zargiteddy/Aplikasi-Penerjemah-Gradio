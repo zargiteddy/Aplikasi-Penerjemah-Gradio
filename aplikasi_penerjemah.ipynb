{
 "cells": [
  {
   "cell_type": "markdown",
   "id": "53f9df08",
   "metadata": {},
   "source": [
    "### 1. Import _libraries_ yang dibutuhkan"
   ]
  },
  {
   "cell_type": "code",
   "execution_count": 3,
   "id": "97ee4aca",
   "metadata": {},
   "outputs": [
    {
     "name": "stdout",
     "output_type": "stream",
     "text": [
      "WARNING:tensorflow:From C:\\Users\\LENOVO\\anaconda3\\envs\\porto\\Lib\\site-packages\\keras\\src\\losses.py:2976: The name tf.losses.sparse_softmax_cross_entropy is deprecated. Please use tf.compat.v1.losses.sparse_softmax_cross_entropy instead.\n",
      "\n"
     ]
    }
   ],
   "source": [
    "import gradio as gr\n",
    "from transformers import pipeline"
   ]
  },
  {
   "cell_type": "markdown",
   "id": "e2a7e0a7",
   "metadata": {},
   "source": [
    "### 2. Load pipeline penerjemah"
   ]
  },
  {
   "cell_type": "code",
   "execution_count": 7,
   "id": "851a62cd",
   "metadata": {},
   "outputs": [
    {
     "name": "stderr",
     "output_type": "stream",
     "text": [
      "No model was supplied, defaulted to t5-base and revision 686f1db (https://huggingface.co/t5-base).\n",
      "Using a pipeline without specifying a model name and revision in production is not recommended.\n"
     ]
    }
   ],
   "source": [
    "pipeline_terjemahan = pipeline('translation_en_to_fr')"
   ]
  },
  {
   "cell_type": "code",
   "execution_count": 9,
   "id": "adb064d2",
   "metadata": {},
   "outputs": [],
   "source": [
    "terjemahan = pipeline_terjemahan('I love drinking water')"
   ]
  },
  {
   "cell_type": "code",
   "execution_count": 10,
   "id": "0f1e5c67",
   "metadata": {},
   "outputs": [
    {
     "data": {
      "text/plain": [
       "{'translation_text': \"J'aime l'eau potable\"}"
      ]
     },
     "execution_count": 10,
     "metadata": {},
     "output_type": "execute_result"
    }
   ],
   "source": [
    "terjemahan[0]"
   ]
  },
  {
   "cell_type": "code",
   "execution_count": 11,
   "id": "05002b45",
   "metadata": {},
   "outputs": [
    {
     "data": {
      "text/plain": [
       "\"J'aime l'eau potable\""
      ]
     },
     "execution_count": 11,
     "metadata": {},
     "output_type": "execute_result"
    }
   ],
   "source": [
    "terjemahan[0]['translation_text']"
   ]
  },
  {
   "cell_type": "markdown",
   "id": "e3ae7ef7",
   "metadata": {},
   "source": [
    "### 3. Membuat fungsi dan tampilan antarmuka Gradio"
   ]
  },
  {
   "cell_type": "code",
   "execution_count": 14,
   "id": "7cc962ab",
   "metadata": {},
   "outputs": [],
   "source": [
    "def terjemahan_transformers(from_text):\n",
    "    terjemahan = pipeline_terjemahan(from_text)\n",
    "    return terjemahan[0]['translation_text']"
   ]
  },
  {
   "cell_type": "code",
   "execution_count": 15,
   "id": "7263bf5e",
   "metadata": {},
   "outputs": [
    {
     "data": {
      "text/plain": [
       "'Je joue au football tous les jours'"
      ]
     },
     "execution_count": 15,
     "metadata": {},
     "output_type": "execute_result"
    }
   ],
   "source": [
    "terjemahan_transformers('I play football everyday')"
   ]
  },
  {
   "cell_type": "code",
   "execution_count": 17,
   "id": "53608981",
   "metadata": {},
   "outputs": [],
   "source": [
    "antarmuka_gradio = gr.Interface(fn=terjemahan_transformers, \n",
    "                                inputs=gr.components.Textbox(lines=2, placeholder='Text to translate'),\n",
    "                                outputs='text')"
   ]
  },
  {
   "cell_type": "code",
   "execution_count": 19,
   "id": "c4fb6be3",
   "metadata": {},
   "outputs": [
    {
     "name": "stdout",
     "output_type": "stream",
     "text": [
      "Running on local URL:  http://127.0.0.1:7860\n",
      "\n",
      "To create a public link, set `share=True` in `launch()`.\n"
     ]
    },
    {
     "data": {
      "text/html": [
       "<div><iframe src=\"http://127.0.0.1:7860/\" width=\"100%\" height=\"500\" allow=\"autoplay; camera; microphone; clipboard-read; clipboard-write;\" frameborder=\"0\" allowfullscreen></iframe></div>"
      ],
      "text/plain": [
       "<IPython.core.display.HTML object>"
      ]
     },
     "metadata": {},
     "output_type": "display_data"
    },
    {
     "data": {
      "text/plain": []
     },
     "execution_count": 19,
     "metadata": {},
     "output_type": "execute_result"
    }
   ],
   "source": [
    "antarmuka_gradio.launch()"
   ]
  },
  {
   "cell_type": "code",
   "execution_count": null,
   "id": "1e6a8562",
   "metadata": {},
   "outputs": [],
   "source": []
  }
 ],
 "metadata": {
  "kernelspec": {
   "display_name": "porto",
   "language": "python",
   "name": "porto"
  },
  "language_info": {
   "codemirror_mode": {
    "name": "ipython",
    "version": 3
   },
   "file_extension": ".py",
   "mimetype": "text/x-python",
   "name": "python",
   "nbconvert_exporter": "python",
   "pygments_lexer": "ipython3",
   "version": "3.11.5"
  }
 },
 "nbformat": 4,
 "nbformat_minor": 5
}
